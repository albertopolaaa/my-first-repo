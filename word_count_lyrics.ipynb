{
 "cells": [
  {
   "cell_type": "code",
   "execution_count": null,
   "metadata": {},
   "outputs": [],
   "source": [
    "lyrics = input(\"Please enter your lyrics: \")\n",
    "lyrics = lyrics.replace(',', '')\n",
    "lyrics = lyrics.lower()\n",
    "\n",
    "def freq(lyrics):  \n",
    "    lyrics = lyrics.split()          \n",
    "    lyrics2 = [] \n",
    "    for i in lyrics:              \n",
    "        if i not in lyrics2: \n",
    "            lyrics2.append(i)               \n",
    "    for i in range(0, len(lyrics2)): \n",
    "        print(lyrics2[i], ',', lyrics.count(lyrics2[i]))     \n",
    "  \n",
    "def main(): \n",
    "    freq(lyrics)                     \n",
    "  \n",
    "if __name__==\"__main__\": \n",
    "    main()"
   ]
  }
 ],
 "metadata": {
  "kernelspec": {
   "display_name": "Python 3",
   "language": "python",
   "name": "python3"
  },
  "language_info": {
   "codemirror_mode": {
    "name": "ipython",
    "version": 3
   },
   "file_extension": ".py",
   "mimetype": "text/x-python",
   "name": "python",
   "nbconvert_exporter": "python",
   "pygments_lexer": "ipython3",
   "version": "3.7.4"
  }
 },
 "nbformat": 4,
 "nbformat_minor": 2
}
